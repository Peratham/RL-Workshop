{
 "cells": [
  {
   "cell_type": "code",
   "execution_count": null,
   "metadata": {
    "collapsed": false
   },
   "outputs": [],
   "source": [
    "import gym\n",
    "import matplotlib.pyplot as plt\n",
    "%matplotlib inline\n",
    "import numpy as np\n",
    "import random\n",
    "\n",
    "from keras.models import Sequential\n",
    "from keras.layers import Dense, Activation\n",
    "\n",
    "from JSAnimation.IPython_display import display_animation\n",
    "from matplotlib import animation\n",
    "from IPython import display"
   ]
  },
  {
   "cell_type": "code",
   "execution_count": null,
   "metadata": {
    "collapsed": true
   },
   "outputs": [],
   "source": [
    "def display_frames_as_gif(frames):\n",
    "    \"\"\"\n",
    "    Displays a list of frames as a gif, with controls\n",
    "    \"\"\"\n",
    "    patch = plt.imshow(frames[0])\n",
    "    plt.axis('off')\n",
    "\n",
    "    def animate(i):\n",
    "        patch.set_data(frames[i])\n",
    "\n",
    "    f = len(frames)\n",
    "    a = animation.FuncAnimation(plt.gcf(), animate, frames=f, interval=17)\n",
    "    display.display(display_animation(a, default_mode='once'))"
   ]
  },
  {
   "cell_type": "code",
   "execution_count": null,
   "metadata": {
    "collapsed": true
   },
   "outputs": [],
   "source": [
    "\"\"\"\n",
    "Environment Parameters\n",
    "\"\"\"\n",
    "observation_space = 4\n",
    "action_space = 2\n",
    "env_name = 'CartPole-v0'\n",
    "seed = 12\n",
    "\n",
    "\"\"\"\n",
    "Agent Parameters\n",
    "\"\"\"\n",
    "episodes = 1000\n",
    "epsilon_init = 1.0\n",
    "epsilon_decay = 0.002\n",
    "epsilon_min = 0.1\n",
    "gamma = 0.99\n",
    "\n",
    "\"\"\"\n",
    "Model Parameters\n",
    "\"\"\"\n",
    "batch_size = 128\n",
    "hidden_dims = 16\n",
    "activation = 'relu'\n",
    "optim = 'rmsprop'\n",
    "loss_func = 'mse'"
   ]
  },
  {
   "cell_type": "code",
   "execution_count": null,
   "metadata": {
    "collapsed": false
   },
   "outputs": [],
   "source": [
    "cartpole_env = gym.make(env_name)\n",
    "cartpole_env.seed(seed)\n",
    "random.seed(seed)\n",
    "np.random.seed(seed)"
   ]
  },
  {
   "cell_type": "code",
   "execution_count": null,
   "metadata": {
    "collapsed": true
   },
   "outputs": [],
   "source": [
    "class DQN:\n",
    "    def __init__(self):\n",
    "        pass\n",
    "        \n",
    "    def build_dqn(self):\n",
    "        pass\n",
    "    \n",
    "    def train(self):\n",
    "        pass\n",
    "        \n",
    "    def predict(self, s):\n",
    "        pass\n",
    "    \n",
    "    def target_predict(self, s):\n",
    "        pass\n",
    "    \n",
    "    def record_state_tuple(self, state_tuple):\n",
    "        pass"
   ]
  },
  {
   "cell_type": "code",
   "execution_count": null,
   "metadata": {
    "collapsed": false
   },
   "outputs": [],
   "source": [
    "simple_dqn = DQN()"
   ]
  },
  {
   "cell_type": "code",
   "execution_count": null,
   "metadata": {
    "collapsed": false
   },
   "outputs": [],
   "source": [
    "def run_episode(env, model, epsilon=0.0,\n",
    "                training=False, render=False):\n",
    "    total_reward = 0\n",
    "    done = False\n",
    "    state = np.expand_dims(env.reset(), 0)\n",
    "    frames = []\n",
    "    while not done:\n",
    "        if render:\n",
    "            frames.append(env.render(mode='rgb_array'))\n",
    "        if training and random.random() < epsilon:\n",
    "            action = env.action_space.sample()\n",
    "        \"\"\"IMPLEMENT CODE HERE\"\"\"\n",
    "    if render:\n",
    "        frames.append(env.render(mode='rgb_array'))\n",
    "        display_frames_as_gif(frames)\n",
    "    return total_reward, epsilon"
   ]
  },
  {
   "cell_type": "code",
   "execution_count": null,
   "metadata": {
    "collapsed": false
   },
   "outputs": [],
   "source": [
    "run_episode(cartpole_env, simple_dqn, render=True)"
   ]
  },
  {
   "cell_type": "code",
   "execution_count": null,
   "metadata": {
    "collapsed": false
   },
   "outputs": [],
   "source": [
    "def warmup_buffer(env, model):\n",
    "    for _ in range(50):\n",
    "        done = False\n",
    "        state = np.expand_dims(env.reset(), 0)\n",
    "        while not done:\n",
    "            action = env.action_space.sample()\n",
    "            next_state, reward, done, _ = env.step(action)\n",
    "            next_state = np.expand_dims(next_state, 0)\n",
    "            exp_tuple = (state, action, reward, next_state, done)\n",
    "            model.record_state_tuple(exp_tuple)\n",
    "            state = next_state"
   ]
  },
  {
   "cell_type": "code",
   "execution_count": null,
   "metadata": {
    "collapsed": false
   },
   "outputs": [],
   "source": [
    "warmup_buffer(cartpole_env, simple_dqn)\n",
    "eps = epsilon_init\n",
    "sum_reward = 0\n",
    "for episode in range(1, episodes+1):\n",
    "    r, eps = run_episode(cartpole_env, simple_dqn, epsilon=eps,\n",
    "                         training=True, render=False)\n",
    "    sum_reward += r\n",
    "    if episode % 10 == 0:\n",
    "        avg = sum_reward / 10\n",
    "        sum_reward = 0\n",
    "        start = episode - 9\n",
    "        print(\"Average total reward for episode \" + \\\n",
    "              f\"{start} through {episode}: {avg}\")"
   ]
  },
  {
   "cell_type": "code",
   "execution_count": null,
   "metadata": {
    "collapsed": false
   },
   "outputs": [],
   "source": [
    "run_episode(cartpole_env, simple_dqn, render=True)"
   ]
  },
  {
   "cell_type": "code",
   "execution_count": null,
   "metadata": {
    "collapsed": true
   },
   "outputs": [],
   "source": [
    "\"\"\"\n",
    "Target Network Parameters\n",
    "\"\"\"\n",
    "target_decay = 0.99"
   ]
  },
  {
   "cell_type": "code",
   "execution_count": null,
   "metadata": {
    "collapsed": true
   },
   "outputs": [],
   "source": [
    "class TargetDQN(DQN):\n",
    "    def __init__(self, decay):\n",
    "        pass\n",
    "        \n",
    "    def train(self):\n",
    "        pass\n",
    "        \n",
    "    def update_target(self):\n",
    "        pass\n",
    "    \n",
    "    def target_predict(self, s):\n",
    "        pass"
   ]
  },
  {
   "cell_type": "code",
   "execution_count": null,
   "metadata": {
    "collapsed": false
   },
   "outputs": [],
   "source": [
    "better_dqn = TargetDQN(target_decay)"
   ]
  },
  {
   "cell_type": "code",
   "execution_count": null,
   "metadata": {
    "collapsed": false
   },
   "outputs": [],
   "source": [
    "warmup_buffer(cartpole_env, better_dqn)\n",
    "eps = epsilon_init\n",
    "sum_reward = 0\n",
    "for episode in range(1, episodes+1):\n",
    "    r, eps = run_episode(cartpole_env, better_dqn, epsilon=eps,\n",
    "                         training=True, render=False)\n",
    "    sum_reward += r\n",
    "    if episode % 10 == 0:\n",
    "        avg = sum_reward / 10\n",
    "        sum_reward = 0\n",
    "        start = episode - 9\n",
    "        print(\"Average total reward for episode \" + \\\n",
    "              f\"{start} through {episode}: {avg}\")"
   ]
  },
  {
   "cell_type": "code",
   "execution_count": null,
   "metadata": {
    "collapsed": false
   },
   "outputs": [],
   "source": [
    "run_episode(cartpole_env, better_dqn, target_net, simple_buffer, render=True)"
   ]
  }
 ],
 "metadata": {
  "kernelspec": {
   "display_name": "Python 3",
   "language": "python",
   "name": "python3"
  },
  "language_info": {
   "codemirror_mode": {
    "name": "ipython",
    "version": 3
   },
   "file_extension": ".py",
   "mimetype": "text/x-python",
   "name": "python",
   "nbconvert_exporter": "python",
   "pygments_lexer": "ipython3",
   "version": "3.6.2"
  }
 },
 "nbformat": 4,
 "nbformat_minor": 2
}
